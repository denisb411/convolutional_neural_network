{
 "cells": [
  {
   "cell_type": "code",
   "execution_count": 1,
   "metadata": {},
   "outputs": [
    {
     "name": "stderr",
     "output_type": "stream",
     "text": [
      "C:\\Users\\Denis\\AppData\\Local\\conda\\conda\\envs\\tensorflow_env_gpu\\lib\\site-packages\\h5py\\__init__.py:36: FutureWarning: Conversion of the second argument of issubdtype from `float` to `np.floating` is deprecated. In future, it will be treated as `np.float64 == np.dtype(float).type`.\n",
      "  from ._conv import register_converters as _register_converters\n"
     ]
    }
   ],
   "source": [
    "import numpy as np\n",
    "import tensorflow as tf\n",
    "import matplotlib.pyplot as plt\n",
    "\n",
    "from datetime import datetime\n",
    "from scipy.signal import convolve2d\n",
    "from scipy.io import loadmat\n",
    "from sklearn.utils import shuffle\n",
    "\n",
    "from benchmark import get_data, y2indicator, error_rate"
   ]
  },
  {
   "cell_type": "code",
   "execution_count": 2,
   "metadata": {
    "collapsed": true
   },
   "outputs": [],
   "source": [
    "def convpool(X, W, b):\n",
    "    # just assume pool size is (2,2) because we need to augment it with 1s\n",
    "    conv_out = tf.nn.conv2d(X, W, strides=[1, 1, 1, 1], padding='SAME')\n",
    "    conv_out = tf.nn.bias_add(conv_out, b)\n",
    "    pool_out = tf.nn.max_pool(conv_out, ksize=[1, 2, 2, 1], strides=[1, 2, 2, 1], padding='SAME')\n",
    "    return tf.nn.relu(pool_out)\n",
    "\n",
    "def init_filter(shape, poolsz):\n",
    "    # w = np.random.randn(*shape) * np.sqrt(2) / np.sqrt(np.prod(shape[:-1]) + shape[-1]*np.prod(shape[:-2]) / np.prod(poolsz))\n",
    "    w = np.random.randn(*shape) * np.sqrt(2.0 / np.prod(shape[:-1]))\n",
    "    return w.astype(np.float32)\n",
    "\n",
    "def rearrange(X):\n",
    "    # input is (32, 32, 3, N)\n",
    "    # output is (N, 32, 32, 3)\n",
    "    # N = X.shape[-1]\n",
    "    # out = np.zeros((N, 32, 32, 3), dtype=np.float32)\n",
    "    # for i in xrange(N):\n",
    "    #     for j in xrange(3):\n",
    "    #         out[i, :, :, j] = X[:, :, j, i]\n",
    "    # return out / 255\n",
    "    return (X.transpose(3, 0, 1, 2) / 255).astype(np.float32)"
   ]
  },
  {
   "cell_type": "code",
   "execution_count": 3,
   "metadata": {},
   "outputs": [
    {
     "name": "stdout",
     "output_type": "stream",
     "text": [
      "Xtest.shape: (26000, 32, 32, 3)\n",
      "Ytest.shape: (26000,)\n"
     ]
    }
   ],
   "source": [
    "train, test = get_data()\n",
    "\n",
    "# Need to scale! don't leave as 0..255\n",
    "# Y is a N x 1 matrix with values 1..10 (MATLAB indexes by 1)\n",
    "# So flatten it and make it 0..9\n",
    "# Also need indicator matrix for cost calculation\n",
    "Xtrain = rearrange(train['X'])\n",
    "Ytrain = train['y'].flatten() - 1\n",
    "# print len(Ytrain)\n",
    "del train\n",
    "Xtrain, Ytrain = shuffle(Xtrain, Ytrain)\n",
    "Ytrain_ind = y2indicator(Ytrain)\n",
    "\n",
    "Xtest  = rearrange(test['X'])\n",
    "Ytest  = test['y'].flatten() - 1\n",
    "del test\n",
    "Ytest_ind  = y2indicator(Ytest)\n",
    "\n",
    "# gradient descent params\n",
    "max_iter = 6\n",
    "print_period = 10\n",
    "N = Xtrain.shape[0]\n",
    "batch_sz = 500\n",
    "n_batches = N // batch_sz\n",
    "\n",
    "# limit samples since input will always have to be same size\n",
    "# you could also just do N = N / batch_sz * batch_sz\n",
    "Xtrain = Xtrain[:73000,]\n",
    "Ytrain = Ytrain[:73000]\n",
    "Xtest = Xtest[:26000,]\n",
    "Ytest = Ytest[:26000]\n",
    "Ytest_ind = Ytest_ind[:26000,]\n",
    "print(\"Xtest.shape:\", Xtest.shape)\n",
    "print(\"Ytest.shape:\", Ytest.shape)"
   ]
  },
  {
   "cell_type": "code",
   "execution_count": 4,
   "metadata": {
    "collapsed": true
   },
   "outputs": [],
   "source": [
    "# initial weights\n",
    "M = 500\n",
    "K = 10\n",
    "poolsz = (2, 2)\n",
    "\n",
    "W1_shape = (5, 5, 3, 20) # (filter_width, filter_height, num_color_channels, num_feature_maps)\n",
    "W1_init = init_filter(W1_shape, poolsz)\n",
    "b1_init = np.zeros(W1_shape[-1], dtype=np.float32) # one bias per output feature map\n",
    "\n",
    "W2_shape = (5, 5, 20, 50) # (filter_width, filter_height, old_num_feature_maps, num_feature_maps)\n",
    "W2_init = init_filter(W2_shape, poolsz)\n",
    "b2_init = np.zeros(W2_shape[-1], dtype=np.float32)"
   ]
  },
  {
   "cell_type": "code",
   "execution_count": 5,
   "metadata": {
    "collapsed": true
   },
   "outputs": [],
   "source": [
    "# vanilla ANN weights\n",
    "W3_init = np.random.randn(W2_shape[-1]*8*8, M) / np.sqrt(W2_shape[-1]*8*8 + M)\n",
    "b3_init = np.zeros(M, dtype=np.float32)\n",
    "W4_init = np.random.randn(M, K) / np.sqrt(M + K)\n",
    "b4_init = np.zeros(K, dtype=np.float32)"
   ]
  },
  {
   "cell_type": "code",
   "execution_count": 6,
   "metadata": {
    "collapsed": true
   },
   "outputs": [],
   "source": [
    "# define variables and expressions\n",
    "# using None as the first shape element takes up too much RAM unfortunately\n",
    "X = tf.placeholder(tf.float32, shape=(batch_sz, 32, 32, 3), name='X')\n",
    "T = tf.placeholder(tf.float32, shape=(batch_sz, K), name='T')\n",
    "W1 = tf.Variable(W1_init.astype(np.float32))\n",
    "b1 = tf.Variable(b1_init.astype(np.float32))\n",
    "W2 = tf.Variable(W2_init.astype(np.float32))\n",
    "b2 = tf.Variable(b2_init.astype(np.float32))\n",
    "W3 = tf.Variable(W3_init.astype(np.float32))\n",
    "b3 = tf.Variable(b3_init.astype(np.float32))\n",
    "W4 = tf.Variable(W4_init.astype(np.float32))\n",
    "b4 = tf.Variable(b4_init.astype(np.float32))"
   ]
  },
  {
   "cell_type": "code",
   "execution_count": 7,
   "metadata": {
    "collapsed": true
   },
   "outputs": [],
   "source": [
    "Z1 = convpool(X, W1, b1)\n",
    "Z2 = convpool(Z1, W2, b2)\n",
    "Z2_shape = Z2.get_shape().as_list()\n",
    "Z2r = tf.reshape(Z2, [Z2_shape[0], np.prod(Z2_shape[1:])])\n",
    "Z3 = tf.nn.relu( tf.matmul(Z2r, W3) + b3 )\n",
    "Yish = tf.matmul(Z3, W4) + b4\n",
    "\n",
    "cost = tf.reduce_sum(\n",
    "    tf.nn.softmax_cross_entropy_with_logits(\n",
    "        logits=Yish,\n",
    "        labels=T\n",
    "    )\n",
    ")\n",
    "\n",
    "train_op = tf.train.RMSPropOptimizer(0.0001, decay=0.99, momentum=0.9).minimize(cost)\n",
    "\n",
    "# we'll use this to calculate the error rate\n",
    "predict_op = tf.argmax(Yish, 1)"
   ]
  },
  {
   "cell_type": "code",
   "execution_count": 8,
   "metadata": {},
   "outputs": [
    {
     "name": "stdout",
     "output_type": "stream",
     "text": [
      "Cost / err at iteration i=0, j=0: 65693.224 / 0.818\n",
      "Cost / err at iteration i=0, j=10: 58091.844 / 0.804\n",
      "Cost / err at iteration i=0, j=20: 57892.557 / 0.804\n",
      "Cost / err at iteration i=0, j=30: 57405.893 / 0.771\n",
      "Cost / err at iteration i=0, j=40: 56270.324 / 0.745\n",
      "Cost / err at iteration i=0, j=50: 53439.042 / 0.712\n",
      "Cost / err at iteration i=0, j=60: 48560.681 / 0.545\n",
      "Cost / err at iteration i=0, j=70: 41020.521 / 0.490\n",
      "Cost / err at iteration i=0, j=80: 35212.803 / 0.463\n",
      "Cost / err at iteration i=0, j=90: 29330.328 / 0.345\n",
      "Cost / err at iteration i=0, j=100: 25635.542 / 0.298\n",
      "Cost / err at iteration i=0, j=110: 22289.200 / 0.241\n",
      "Cost / err at iteration i=0, j=120: 21013.929 / 0.232\n",
      "Cost / err at iteration i=0, j=130: 19612.841 / 0.210\n",
      "Cost / err at iteration i=0, j=140: 18588.811 / 0.202\n",
      "Cost / err at iteration i=1, j=0: 19207.653 / 0.209\n",
      "Cost / err at iteration i=1, j=10: 17760.973 / 0.187\n",
      "Cost / err at iteration i=1, j=20: 17664.988 / 0.191\n",
      "Cost / err at iteration i=1, j=30: 17349.375 / 0.183\n",
      "Cost / err at iteration i=1, j=40: 16383.449 / 0.171\n",
      "Cost / err at iteration i=1, j=50: 16098.389 / 0.171\n",
      "Cost / err at iteration i=1, j=60: 16223.763 / 0.175\n",
      "Cost / err at iteration i=1, j=70: 16126.808 / 0.172\n",
      "Cost / err at iteration i=1, j=80: 15304.598 / 0.161\n",
      "Cost / err at iteration i=1, j=90: 15404.145 / 0.161\n",
      "Cost / err at iteration i=1, j=100: 15407.112 / 0.164\n",
      "Cost / err at iteration i=1, j=110: 14896.546 / 0.154\n",
      "Cost / err at iteration i=1, j=120: 14919.614 / 0.155\n",
      "Cost / err at iteration i=1, j=130: 14617.030 / 0.153\n",
      "Cost / err at iteration i=1, j=140: 14695.498 / 0.153\n",
      "Cost / err at iteration i=2, j=0: 14857.338 / 0.158\n",
      "Cost / err at iteration i=2, j=10: 15232.247 / 0.164\n",
      "Cost / err at iteration i=2, j=20: 14423.204 / 0.150\n",
      "Cost / err at iteration i=2, j=30: 14158.579 / 0.148\n",
      "Cost / err at iteration i=2, j=40: 14005.552 / 0.147\n",
      "Cost / err at iteration i=2, j=50: 13745.006 / 0.145\n",
      "Cost / err at iteration i=2, j=60: 13609.965 / 0.144\n",
      "Cost / err at iteration i=2, j=70: 13631.828 / 0.143\n",
      "Cost / err at iteration i=2, j=80: 13371.905 / 0.141\n",
      "Cost / err at iteration i=2, j=90: 13439.225 / 0.139\n",
      "Cost / err at iteration i=2, j=100: 14204.527 / 0.152\n",
      "Cost / err at iteration i=2, j=110: 13320.309 / 0.141\n",
      "Cost / err at iteration i=2, j=120: 13539.466 / 0.144\n",
      "Cost / err at iteration i=2, j=130: 13414.863 / 0.144\n",
      "Cost / err at iteration i=2, j=140: 13753.664 / 0.145\n",
      "Cost / err at iteration i=3, j=0: 13342.422 / 0.142\n",
      "Cost / err at iteration i=3, j=10: 13346.291 / 0.144\n",
      "Cost / err at iteration i=3, j=20: 12778.466 / 0.137\n",
      "Cost / err at iteration i=3, j=30: 13377.765 / 0.145\n",
      "Cost / err at iteration i=3, j=40: 12401.128 / 0.131\n",
      "Cost / err at iteration i=3, j=50: 12492.835 / 0.132\n",
      "Cost / err at iteration i=3, j=60: 12640.151 / 0.133\n",
      "Cost / err at iteration i=3, j=70: 12378.325 / 0.131\n",
      "Cost / err at iteration i=3, j=80: 12421.132 / 0.131\n",
      "Cost / err at iteration i=3, j=90: 12260.253 / 0.129\n",
      "Cost / err at iteration i=3, j=100: 13149.665 / 0.143\n",
      "Cost / err at iteration i=3, j=110: 12257.730 / 0.132\n",
      "Cost / err at iteration i=3, j=120: 12920.704 / 0.138\n",
      "Cost / err at iteration i=3, j=130: 12971.238 / 0.139\n",
      "Cost / err at iteration i=3, j=140: 12826.473 / 0.138\n",
      "Cost / err at iteration i=4, j=0: 12734.271 / 0.138\n",
      "Cost / err at iteration i=4, j=10: 12702.413 / 0.137\n",
      "Cost / err at iteration i=4, j=20: 11852.659 / 0.127\n",
      "Cost / err at iteration i=4, j=30: 12401.043 / 0.135\n",
      "Cost / err at iteration i=4, j=40: 11460.476 / 0.123\n",
      "Cost / err at iteration i=4, j=50: 11514.667 / 0.122\n",
      "Cost / err at iteration i=4, j=60: 11856.088 / 0.127\n",
      "Cost / err at iteration i=4, j=70: 11656.607 / 0.126\n",
      "Cost / err at iteration i=4, j=80: 11528.367 / 0.122\n",
      "Cost / err at iteration i=4, j=90: 11567.675 / 0.123\n",
      "Cost / err at iteration i=4, j=100: 12632.356 / 0.137\n",
      "Cost / err at iteration i=4, j=110: 11661.752 / 0.126\n",
      "Cost / err at iteration i=4, j=120: 12050.936 / 0.130\n",
      "Cost / err at iteration i=4, j=130: 12015.126 / 0.128\n",
      "Cost / err at iteration i=4, j=140: 12061.871 / 0.130\n",
      "Cost / err at iteration i=5, j=0: 11737.453 / 0.128\n",
      "Cost / err at iteration i=5, j=10: 12082.165 / 0.132\n",
      "Cost / err at iteration i=5, j=20: 11740.347 / 0.128\n",
      "Cost / err at iteration i=5, j=30: 11434.553 / 0.124\n",
      "Cost / err at iteration i=5, j=40: 11050.297 / 0.119\n",
      "Cost / err at iteration i=5, j=50: 11181.762 / 0.120\n",
      "Cost / err at iteration i=5, j=60: 11478.744 / 0.123\n",
      "Cost / err at iteration i=5, j=70: 11219.143 / 0.120\n",
      "Cost / err at iteration i=5, j=80: 11246.741 / 0.120\n",
      "Cost / err at iteration i=5, j=90: 11462.715 / 0.122\n",
      "Cost / err at iteration i=5, j=100: 12268.471 / 0.129\n",
      "Cost / err at iteration i=5, j=110: 11684.378 / 0.125\n",
      "Cost / err at iteration i=5, j=120: 11638.065 / 0.125\n",
      "Cost / err at iteration i=5, j=130: 11492.841 / 0.125\n",
      "Cost / err at iteration i=5, j=140: 11215.652 / 0.118\n",
      "Elapsed time: 0:02:44.610122\n"
     ]
    },
    {
     "data": {
      "image/png": "[encoded data removed]",
      "text/plain": [
       "<matplotlib.figure.Figure at 0x2c32629c048>"
      ]
     },
     "metadata": {},
     "output_type": "display_data"
    }
   ],
   "source": [
    "t0 = datetime.now()\n",
    "LL = []\n",
    "init = tf.global_variables_initializer()\n",
    "with tf.Session() as session:\n",
    "    session.run(init)\n",
    "\n",
    "    for i in range(max_iter):\n",
    "        for j in range(n_batches):\n",
    "            Xbatch = Xtrain[j*batch_sz:(j*batch_sz + batch_sz),]\n",
    "            Ybatch = Ytrain_ind[j*batch_sz:(j*batch_sz + batch_sz),]\n",
    "\n",
    "            if len(Xbatch) == batch_sz:\n",
    "                session.run(train_op, feed_dict={X: Xbatch, T: Ybatch})\n",
    "                if j % print_period == 0:\n",
    "                    # due to RAM limitations we need to have a fixed size input\n",
    "                    # so as a result, we have this ugly total cost and prediction computation\n",
    "                    test_cost = 0\n",
    "                    prediction = np.zeros(len(Xtest))\n",
    "                    for k in range(len(Xtest) // batch_sz):\n",
    "                        Xtestbatch = Xtest[k*batch_sz:(k*batch_sz + batch_sz),]\n",
    "                        Ytestbatch = Ytest_ind[k*batch_sz:(k*batch_sz + batch_sz),]\n",
    "                        test_cost += session.run(cost, feed_dict={X: Xtestbatch, T: Ytestbatch})\n",
    "                        prediction[k*batch_sz:(k*batch_sz + batch_sz)] = session.run(\n",
    "                            predict_op, feed_dict={X: Xtestbatch})\n",
    "                    err = error_rate(prediction, Ytest)\n",
    "                    print(\"Cost / err at iteration i=%d, j=%d: %.3f / %.3f\" % (i, j, test_cost, err))\n",
    "                    LL.append(test_cost)\n",
    "print(\"Elapsed time:\", (datetime.now() - t0))\n",
    "plt.plot(LL)\n",
    "plt.show()"
   ]
  },
  {
   "cell_type": "code",
   "execution_count": null,
   "metadata": {
    "collapsed": true
   },
   "outputs": [],
   "source": []
  },
  {
   "cell_type": "code",
   "execution_count": null,
   "metadata": {
    "collapsed": true
   },
   "outputs": [],
   "source": []
  },
  {
   "cell_type": "code",
   "execution_count": null,
   "metadata": {
    "collapsed": true
   },
   "outputs": [],
   "source": []
  },
  {
   "cell_type": "code",
   "execution_count": null,
   "metadata": {
    "collapsed": true
   },
   "outputs": [],
   "source": []
  }
 ],
 "metadata": {
  "kernelspec": {
   "display_name": "Python 3",
   "language": "python",
   "name": "python3"
  },
  "language_info": {
   "codemirror_mode": {
    "name": "ipython",
    "version": 3
   },
   "file_extension": ".py",
   "mimetype": "text/x-python",
   "name": "python",
   "nbconvert_exporter": "python",
   "pygments_lexer": "ipython3",
   "version": "3.6.3"
  }
 },
 "nbformat": 4,
 "nbformat_minor": 2
}
